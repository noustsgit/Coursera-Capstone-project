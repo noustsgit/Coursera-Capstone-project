{
    "cells": [
        {
            "cell_type": "code",
            "execution_count": 6,
            "id": "56f34623-ba57-4191-a9dd-eaa2000b90de",
            "metadata": {},
            "outputs": [],
            "source": "import pandas as pd\nimport dash\nfrom dash import html\nfrom dash import dcc\nfrom dash.dependencies import Input, Output\nimport plotly.express as px\n\n"
        },
        {
            "cell_type": "code",
            "execution_count": 7,
            "id": "21c60074-f35c-4b14-9bac-83116e488b42",
            "metadata": {},
            "outputs": [],
            "source": "# Read the airline data into pandas dataframe\nspacex_df = pd.read_csv('C:\\\\Users\\\\big_v\\\\Downloads\\\\spacex_launch_dash.csv')"
        },
        {
            "cell_type": "code",
            "execution_count": 8,
            "id": "f9ae654c-73e2-48d6-821a-b6d3f330bb7f",
            "metadata": {},
            "outputs": [],
            "source": "max_payload = spacex_df['Payload Mass (kg)'].max()\nmin_payload = spacex_df['Payload Mass (kg)'].min()\n\n\n# Create a dash application\napp = dash.Dash(__name__)\n\n# Create an app layout\napp.layout = html.Div(children=[html.H1('SpaceX Launch Records Dashboard',\n                                        style={'textAlign': 'center', 'color': '#503D36',\n                                               'font-size': 40}),\n                                # TASK 1: Add a dropdown list to enable Launch Site selection\n                                # The default select value is for ALL sites\n                                # dcc.Dropdown(id='site-dropdown',...)\n                                #html.Div(dcc.Dropdown(options=launchsites['Launch Site'],id='site-dropdown', value='All',placeholder='Select Launch Site here',searchable=True,\n                                #style={\"width\": \"50%\"})),\n                                html.Div(dcc.Dropdown(options=[{'label': 'All Sites','value':'ALL'},\n                                                               {'label': 'CCAFS LC-40','value':'CCAFS LC-40'},\n                                                               {'label': 'CCAFS SLC-40','value':'CCAFS SLC-40'},\n                                                               {'label': 'KSC LC-39A','value':'KSC LC-39A'},\n                                                               {'label': 'VAFB SLC-4E','value':'VAFB SLC-4E'}],\n                                                               id='site-dropdown', value='ALL',placeholder='ALL', style={\"width\": \"50%\"})),\n                                html.Br(),\n\n                                # TASK 2: Add a pie chart to show the total successful launches count for all sites\n                                # If a specific launch site was selected, show the Success vs. Failed counts for the site\n                                html.Div(dcc.Graph(id='success-pie-chart')),\n                                html.Br(),\n\n                                html.P(\"Payload range (Kg):\"),\n                                # TASK 3: Add a slider to select payload range\n                                 html.Div(dcc.RangeSlider(id='payload-slider',\n                                                          min=0, max=10000, step=1000,\n                                                          value=[min_payload,max_payload],\n                                                          tooltip={\"placement\": \"bottom\", \"always_visible\": True})),\n                                html.Br(),\n\n                                # TASK 4: Add a scatter chart to show the correlation between payload and launch success\n                                html.Div(dcc.Graph(id='success-payload-scatter-chart')),\n                                ])\n\n                                \n"
        },
        {
            "cell_type": "code",
            "execution_count": 9,
            "id": "322a3245-1c7e-4bdb-bd77-326f99a36568",
            "metadata": {},
            "outputs": [],
            "source": "# TASK 2:\n# Add a callback function for `site-dropdown` as input, `success-pie-chart` as output\n@app.callback(Output(component_id='success-pie-chart', component_property='figure'),Input(component_id='site-dropdown', component_property='value'))\n\ndef update_graph(site):\n    spacex_dff=spacex_df\n    \n    if site == 'ALL':  \n        filtered_dff=spacex_dff\n        fig = px.pie(data_frame=filtered_dff,\n            values='Flight Number',\n            names='class',\n            title='Total Success Launches by Site')\n        return fig\n    else:\n        # return the outcomes piechart for a selected site\n        filtered_df=spacex_dff[spacex_dff['Launch Site']==site]\n        filtered_dff=filtered_df.groupby(['Launch Site','class']).count()\n        fig = px.pie(\n            data_frame=filtered_dff,\n            values=filtered_dff['Flight Number'],\n            title='Total Success Launches for Site '+site)\n        return fig"
        },
        {
            "cell_type": "code",
            "execution_count": 10,
            "id": "925f271c-3180-4fe4-b9ef-ea31d300f075",
            "metadata": {},
            "outputs": [],
            "source": "# TASK 4:\n# Add a callback function for `site-dropdown` and `payload-slider` as inputs, `success-payload-scatter-chart` as output\n@app.callback(Output(component_id='success-payload-scatter-chart', component_property='figure'),\n              [Input(component_id='site-dropdown', component_property='value'), Input(component_id=\"payload-slider\", component_property=\"value\")])\n\ndef update_graph(site, payloadrange):\n    scatterdf=spacex_df\n    \n    if site=='ALL':\n        filtered_df=scatterdf[(scatterdf['Payload Mass (kg)']>=payloadrange[0])&(scatterdf['Payload Mass (kg)']<=payloadrange[1])]\n        fig=px.scatter(data_frame=filtered_df,\n                       x='Payload Mass (kg)',\n                       y='class',\n                       color=\"Booster Version Category\",\n                       title='Correlation betwee Payload and Success for All Sites')\n        return fig\n    else:\n        # return the data for the selected site\n        filtered_df=scatterdf[scatterdf['Launch Site']==site]\n        filtered_dff=filtered_df[(filtered_df['Payload Mass (kg)']>=payloadrange[0])&(filtered_df['Payload Mass (kg)']<=payloadrange[1])]\n        #data manip here\n        fig=px.scatter(data_frame=filtered_dff,\n                       x='Payload Mass (kg)',\n                       y='class',\n                       color=\"Booster Version Category\",\n                      title='Correlation between Payload and Success for Site ' + site)\n        \n        return fig"
        },
        {
            "cell_type": "code",
            "execution_count": 11,
            "id": "c2565711-7d9d-47d9-b581-e2f001a5e93b",
            "metadata": {},
            "outputs": [
                {
                    "name": "stdout",
                    "output_type": "stream",
                    "text": "Dash is running on http://127.0.0.1:8050/\n\nDash is running on http://127.0.0.1:8050/\n\n * Serving Flask app '__main__'\n * Debug mode: off\n"
                },
                {
                    "name": "stderr",
                    "output_type": "stream",
                    "text": "WARNING: This is a development server. Do not use it in a production deployment. Use a production WSGI server instead.\n * Running on http://127.0.0.1:8050\nPress CTRL+C to quit\n127.0.0.1 - - [24/Sep/2022 22:41:59] \"GET / HTTP/1.1\" 200 -\n127.0.0.1 - - [24/Sep/2022 22:41:59] \"GET /_dash-layout HTTP/1.1\" 200 -\n127.0.0.1 - - [24/Sep/2022 22:41:59] \"GET /_dash-dependencies HTTP/1.1\" 200 -\n127.0.0.1 - - [24/Sep/2022 22:41:59] \"GET /_dash-component-suites/dash/dcc/async-dropdown.js HTTP/1.1\" 304 -\n127.0.0.1 - - [24/Sep/2022 22:41:59] \"GET /_dash-component-suites/dash/dcc/async-graph.js HTTP/1.1\" 304 -\n127.0.0.1 - - [24/Sep/2022 22:41:59] \"GET /_dash-component-suites/dash/dcc/async-slider.js HTTP/1.1\" 304 -\n127.0.0.1 - - [24/Sep/2022 22:41:59] \"GET /_dash-component-suites/dash/dcc/async-plotlyjs.js HTTP/1.1\" 304 -\n127.0.0.1 - - [24/Sep/2022 22:42:00] \"POST /_dash-update-component HTTP/1.1\" 200 -\n127.0.0.1 - - [24/Sep/2022 22:42:00] \"POST /_dash-update-component HTTP/1.1\" 200 -\n127.0.0.1 - - [24/Sep/2022 22:42:04] \"POST /_dash-update-component HTTP/1.1\" 200 -\n127.0.0.1 - - [24/Sep/2022 22:42:04] \"POST /_dash-update-component HTTP/1.1\" 200 -\n127.0.0.1 - - [24/Sep/2022 22:42:08] \"POST /_dash-update-component HTTP/1.1\" 200 -\n127.0.0.1 - - [24/Sep/2022 22:42:14] \"POST /_dash-update-component HTTP/1.1\" 200 -\n127.0.0.1 - - [24/Sep/2022 22:42:16] \"POST /_dash-update-component HTTP/1.1\" 200 -\n127.0.0.1 - - [24/Sep/2022 22:42:20] \"POST /_dash-update-component HTTP/1.1\" 200 -\n"
                }
            ],
            "source": "# Run the app\nif __name__ == '__main__':\n    app.run_server()"
        },
        {
            "cell_type": "code",
            "execution_count": null,
            "id": "a685ebab-ad26-4fd2-8385-12bba6e0121d",
            "metadata": {},
            "outputs": [],
            "source": ""
        }
    ],
    "metadata": {
        "kernelspec": {
            "display_name": "Python 3 (ipykernel)",
            "language": "python",
            "name": "python3"
        },
        "language_info": {
            "codemirror_mode": {
                "name": "ipython",
                "version": 3
            },
            "file_extension": ".py",
            "mimetype": "text/x-python",
            "name": "python",
            "nbconvert_exporter": "python",
            "pygments_lexer": "ipython3",
            "version": "3.10.4"
        }
    },
    "nbformat": 4,
    "nbformat_minor": 5
}